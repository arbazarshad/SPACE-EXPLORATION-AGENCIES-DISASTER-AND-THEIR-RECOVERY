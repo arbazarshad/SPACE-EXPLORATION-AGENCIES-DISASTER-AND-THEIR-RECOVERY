{
 "cells": [
  {
   "cell_type": "code",
   "execution_count": 6,
   "metadata": {},
   "outputs": [],
   "source": [
    "import numpy as np \n",
    "import pandas as pd\n",
    "import os\n",
    "\n",
    "import seaborn as sns\n",
    "\n",
    "import matplotlib as plt\n",
    "\n",
    "for dirname, _, filenames in os.walk ('kaggle/input'):\n",
    "    for filename in filenames: \n",
    "        print (os.path.join(dirname, filename))"
   ]
  },
  {
   "cell_type": "code",
   "execution_count": null,
   "metadata": {},
   "outputs": [],
   "source": [
    "df = pd.read_csv('kaggle/input/us-natural-disaster-declarations/us_disaster_declarations.csv') \n",
    "df.head(100)"
   ]
  },
  {
   "cell_type": "code",
   "execution_count": null,
   "metadata": {},
   "outputs": [],
   "source": [
    "m=df[['fy_declared', 'incident_type']].groupby('fy_declared').describe()['incident_type'].reset_index() \n",
    "plt.pyplot.figure(figsize=(9,6)) \n",
    "sns.barplot(x='top',y='freq',data=m);"
   ]
  },
  {
   "cell_type": "code",
   "execution_count": null,
   "metadata": {},
   "outputs": [],
   "source": [
    "m=df['fy_declared'].value_counts().reset_index() \n",
    "m.head (10)"
   ]
  },
  {
   "cell_type": "code",
   "execution_count": null,
   "metadata": {},
   "outputs": [],
   "source": [
    "x1=df[['fy_declared', 'incident_type']]\n",
    "xyz=x1.loc[x1['fy_declared']==2020].groupby('incident_type').count().reset_index() \n",
    "xyz"
   ]
  },
  {
   "cell_type": "code",
   "execution_count": null,
   "metadata": {},
   "outputs": [],
   "source": [
    "m=df[['state', 'incident_type']].groupby('state').describe()\n",
    "m['incident_type'].sort_values (by='count', ascending=False).head (10)"
   ]
  },
  {
   "cell_type": "code",
   "execution_count": null,
   "metadata": {},
   "outputs": [],
   "source": [
    "p = df[['state', 'incident_type']].groupby('state').count()\n",
    "p.reset_index(inplace=True) \n",
    "p=p.sort_values (by='incident_type', ascending=False).head (10)\n",
    "P"
   ]
  },
  {
   "cell_type": "code",
   "execution_count": null,
   "metadata": {},
   "outputs": [],
   "source": [
    "plt.pyplot.figure(figsize=(16,8))\n",
    "\n",
    "sns.barplot(x=\"state\", y=\"incident_type\", data=p.sort_values (by=\"state\"));"
   ]
  },
  {
   "cell_type": "code",
   "execution_count": null,
   "metadata": {},
   "outputs": [],
   "source": [
    "p2 = df[['state', 'incident_type']].groupby('incident_type').count() \n",
    "p2.sort_values (by='state', ascending=False)"
   ]
  },
  {
   "cell_type": "code",
   "execution_count": null,
   "metadata": {},
   "outputs": [],
   "source": [
    "plt.pyplot.figure(figsize=(24,12))\n",
    "\n",
    "sns.barplot(x='index',y='fy_declared', data=m.sort_values (by='fy_declared'));"
   ]
  },
  {
   "cell_type": "code",
   "execution_count": null,
   "metadata": {},
   "outputs": [],
   "source": [
    "print(\"Total Areas \\n\", df['designated area'].nunique())"
   ]
  },
  {
   "cell_type": "code",
   "execution_count": null,
   "metadata": {},
   "outputs": [],
   "source": [
    "d = pd.to_datetime (df[ 'declaration_date']).dt\n",
    "\n",
    "df['year'] = d.year\n",
    "\n",
    "df['month'] = d.month\n",
    "\n",
    "df['day'] = d.day\n",
    "\n",
    "df['time'] = d.time\n",
    "\n",
    "del df['declaration_date']"
   ]
  },
  {
   "cell_type": "code",
   "execution_count": null,
   "metadata": {},
   "outputs": [],
   "source": [
    "df['declaration_type'].value_counts()"
   ]
  },
  {
   "cell_type": "code",
   "execution_count": null,
   "metadata": {},
   "outputs": [],
   "source": [
    "df[['year', 'month', 'declaration_type']].groupby([ 'year', 'month']).describe()"
   ]
  },
  {
   "cell_type": "code",
   "execution_count": null,
   "metadata": {},
   "outputs": [],
   "source": [
    "plt.pyplot.figure(figsize=(8,5)) \n",
    "sns.barplot(x='index',y='declaration_type',data=df['declaration_type').value_counts().reset_index());"
   ]
  }
 ],
 "metadata": {
  "kernelspec": {
   "display_name": "Python 3",
   "language": "python",
   "name": "python3"
  },
  "language_info": {
   "codemirror_mode": {
    "name": "ipython",
    "version": 3
   },
   "file_extension": ".py",
   "mimetype": "text/x-python",
   "name": "python",
   "nbconvert_exporter": "python",
   "pygments_lexer": "ipython3",
   "version": "3.8.3"
  }
 },
 "nbformat": 4,
 "nbformat_minor": 4
}
